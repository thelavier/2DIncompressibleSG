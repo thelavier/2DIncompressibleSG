{
 "cells": [
  {
   "cell_type": "markdown",
   "metadata": {},
   "source": [
    "# Code for experimenting with impelementing periodicity"
   ]
  },
  {
   "cell_type": "code",
   "execution_count": 4,
   "metadata": {},
   "outputs": [
    {
     "name": "stdout",
     "output_type": "stream",
     "text": [
      "[-1000000.                0.          1000000.            10224.85302701]\n"
     ]
    }
   ],
   "source": [
    "import scipy.io\n",
    "import numpy as np\n",
    "\n",
    "initialdata = scipy.io.loadmat('./data/test_case.mat')\n",
    "\n",
    "Z_test_1 = initialdata['Z_test'][:,:,0]\n",
    "Z_test_2 = initialdata['Z_test'][:,:,1]\n",
    "Z_test_3 = initialdata['Z_test'][:,:,2]\n",
    "amp = initialdata['amp'][0][0]\n",
    "bx = initialdata['bx'][0]\n",
    "f = initialdata['f'][0][0]\n",
    "g = initialdata['g'][0][0]\n",
    "M = initialdata['M']\n",
    "Nsq = initialdata['Nsq'][0][0]\n",
    "s = initialdata['s'][0][0]\n",
    "th0 = initialdata['th0'][0][0]\n",
    "w_test_1 = initialdata['w_test'][:,0]\n",
    "w_test_2 = initialdata['w_test'][:,1]\n",
    "w_test_3 = initialdata['w_test'][:,2]\n",
    "\n",
    "import auxfunctions as aux\n",
    "\n",
    "# Load the data from the MessagePack file\n",
    "Z, C, W, M = aux.load_data('./data/SG_data.msgpack')\n",
    "\n",
    "# Compute the Velocities, Temperature, and Kinetic Energy\n",
    "MVel, T = aux.Properties(Z, C, W, M, bx, th0, f, g)\n",
    "\n",
    "maxvel = np.max(MVel)\n",
    "minvel = np.min(MVel)\n",
    "\n",
    "print(bx)"
   ]
  },
  {
   "cell_type": "code",
   "execution_count": 5,
   "metadata": {},
   "outputs": [],
   "source": [
    "from pysdot.domain_types import ConvexPolyhedraAssembly\n",
    "from pysdot import PowerDiagram\n",
    "import pyvista as pv\n",
    "\n",
    "positions = Z_test_1\n",
    "domain = ConvexPolyhedraAssembly()\n",
    "domain.add_box([bx[0], bx[1]], [bx[2], bx[3]])\n",
    "w0 = w_test_1\n",
    "pd = PowerDiagram( positions = positions, domain = domain, weights = w0 )\n",
    "\n",
    "filename = 'pb.vtk'\n",
    "pd.display_vtk( filename )"
   ]
  },
  {
   "cell_type": "code",
   "execution_count": 13,
   "metadata": {},
   "outputs": [
    {
     "name": "stderr",
     "output_type": "stream",
     "text": [
      "/home/s2250115/.local/lib/python3.10/site-packages/pyvista/jupyter/notebook.py:58: UserWarning: Failed to use notebook backend: \n",
      "\n",
      "No module named 'trame'\n",
      "\n",
      "Falling back to a static output.\n",
      "  warnings.warn(\n"
     ]
    },
    {
     "data": {
      "image/png": "[encoded data removed]",
      "text/plain": [
       "<PIL.Image.Image image mode=RGB size=800x800>"
      ]
     },
     "metadata": {},
     "output_type": "display_data"
    }
   ],
   "source": [
    "# Mass of cells\n",
    "colours=pd.integrals()\n",
    "\n",
    "# Read the data\n",
    "grid=pv.read(filename)\n",
    "\n",
    "# create cell data that gives the cell volumes, this allows us to colour by cell volumes\n",
    "cell_colours = colours[grid.cell_data['num'].astype(int)]\n",
    "grid.cell_data['colours']=cell_colours\n",
    "\n",
    "# plot the data with an automatically created plotter, for a static picture use backend='static'\n",
    "plotter = pv.Plotter(window_size=[800,800], notebook = True, off_screen=False)\n",
    "plotter.add_mesh(grid) #, clim=[minvel, maxvel])\n",
    "\n",
    "plotter.set_scale(xscale=0.1, yscale=10)\n",
    "\n",
    "# Set the camera for 2D view\n",
    "plotter.camera_position = 'xy'\n",
    "\n",
    "# Render the frame\n",
    "plotter.show()"
   ]
  },
  {
   "cell_type": "code",
   "execution_count": null,
   "metadata": {},
   "outputs": [],
   "source": [
    "import matplotlib.pyplot as plt\n",
    "\n",
    "#Plot the initial condition\n",
    "\n",
    "fig = plt.figure()\n",
    "fig.set_size_inches(10, 10, True)\n",
    "ax = fig.add_subplot()\n",
    "ax.scatter(Z_test_3[:,0], Z_test_3[:,1], color= 'red', s = 8)\n",
    "ax.set_xlim([-1000000, 1000000])\n",
    "ax.set_ylim([-3000000, 30000000])\n",
    "ax.set_xlabel('X')\n",
    "ax.set_ylabel('Y')\n",
    "\n",
    "plt.show()"
   ]
  },
  {
   "cell_type": "code",
   "execution_count": null,
   "metadata": {},
   "outputs": [],
   "source": [
    "import initialconditions as ic\n",
    "import matplotlib.pyplot as plt\n",
    "import numpy as np\n",
    "import main\n",
    "\n",
    "N = 100 # Number of seeds\n",
    "box = [-1, 0, 2, 1] # list or tuple defining domain [xmin, ymin, xmax, ymax]\n",
    "per_tol = 1e-3 # Percent tolerance\n",
    "periodic_x = True # Set the periodicity of X\n",
    "periodic_y = False # Set the periodicity of Y\n",
    "a = 1 # Set the replication parameter\n",
    "tf = 0.1 # Final time\n",
    "Ndt = 10 # Number of timesteps\n",
    "\n",
    "#Initialize initial condition\n",
    "\n",
    "Z = ic.create_artifical_initial(N, box[0] + 0.5, box[1], box[2] - 0.5, box[3], 'lattice', 0.9) \n",
    "\n",
    "#Plot the initial condition\n",
    "\n",
    "fig = plt.figure()\n",
    "fig.set_size_inches(10, 10, True)\n",
    "ax = fig.add_subplot()\n",
    "ax.scatter(Z[:,0], Z[:,1], color= 'red', s = 8)\n",
    "ax.set_xlim([np.min(Z[:,0] - 1), np.max(Z[:,0] + 1)])\n",
    "ax.set_ylim([np.min(Z[:,1] - 1), np.max(Z[:,1] + 1)])\n",
    "ax.set_xlabel('X')\n",
    "ax.set_ylabel('Y')\n",
    "\n",
    "plt.show()"
   ]
  },
  {
   "cell_type": "code",
   "execution_count": null,
   "metadata": {},
   "outputs": [],
   "source": [
    "main.SG_solver(box, Z, N, per_tol, tf, Ndt, periodic_x, periodic_y, a, debug=True) #Solve and save the solution\n",
    "\n",
    "#Can specify solver and debug mode."
   ]
  }
 ],
 "metadata": {
  "kernelspec": {
   "display_name": "Python 3.10.12 64-bit",
   "language": "python",
   "name": "python3"
  },
  "language_info": {
   "codemirror_mode": {
    "name": "ipython",
    "version": 3
   },
   "file_extension": ".py",
   "mimetype": "text/x-python",
   "name": "python",
   "nbconvert_exporter": "python",
   "pygments_lexer": "ipython3",
   "version": "3.10.12"
  },
  "orig_nbformat": 4,
  "vscode": {
   "interpreter": {
    "hash": "916dbcbb3f70747c44a77c7bcd40155683ae19c65e1c03b4aa3499c5328201f1"
   }
  }
 },
 "nbformat": 4,
 "nbformat_minor": 2
}
