{
 "cells": [
  {
   "cell_type": "markdown",
   "metadata": {},
   "source": [
    "# Code for experimenting with impelementing periodicity"
   ]
  },
  {
   "cell_type": "code",
   "execution_count": 18,
   "metadata": {},
   "outputs": [],
   "source": [
    "import scipy.io\n",
    "import numpy as np\n",
    "import auxfunctions as aux\n",
    "\n",
    "Z, C, W, m = aux.load_data('./data/SG_data.msgpack')\n",
    "\n",
    "initialdata = scipy.io.loadmat('./data/1_step_solutions.mat')\n",
    "\n",
    "Z_test_1 = initialdata['Z'][:,:,0]\n",
    "Z_test_2 = initialdata['Z'][:,:,1]\n",
    "Z_test_3 = initialdata['Z'][:,:,2]\n",
    "w_test_1 = initialdata['w'][:,0]\n",
    "w_test_2 = initialdata['w'][:,1]\n",
    "w_test_3 = initialdata['w'][:,2]\n",
    "Z0_test = initialdata['Z0']\n",
    "C_test_1 = initialdata['C'][:,:,0]\n",
    "C_test_2 = initialdata['C'][:,:,1]\n",
    "C_test_3 = initialdata['C'][:,:,2]\n",
    "\n",
    "bx = [-1000000.0, -5112.42651350665, 1000000.0, 5112.42651350665]"
   ]
  },
  {
   "cell_type": "code",
   "execution_count": null,
   "metadata": {},
   "outputs": [],
   "source": [
    "import optimaltransportsolver as ots\n",
    "\n",
    "Z = Z_test_2\n",
    "D = ots.make_domain(bx, True, False)\n",
    "w0 = w_test_2\n",
    "per_tol = 1e-3\n",
    "\n",
    "sol = ots.ot_solve(D, Z, w0, per_tol, True, False, bx, solver = 'Scipy', debug = True)"
   ]
  },
  {
   "cell_type": "code",
   "execution_count": null,
   "metadata": {},
   "outputs": [],
   "source": [
    "import optimaltransportsolver as ots\n",
    "from pysdot import PowerDiagram\n",
    "import pyvista as pv\n",
    "\n",
    "Z = Z_test_2\n",
    "domain = ots.make_domain(bx, False, False)\n",
    "w0 = sol[1]\n",
    "C = sol[0]\n",
    "\n",
    "pd = PowerDiagram( positions = Z, domain = domain, weights = w0 )\n",
    "\n",
    "filename = 'pb.vtk'\n",
    "pd.display_vtk( filename )\n",
    "\n",
    "# Mass of cells\n",
    "colours=pd.integrals()\n",
    "\n",
    "# Read the data\n",
    "grid=pv.read(filename)\n",
    "\n",
    "# create cell data that gives the cell volumes, this allows us to colour by cell volumes\n",
    "cell_colours = colours[grid.cell_data['num'].astype(int)]\n",
    "grid.cell_data['colours']=cell_colours\n",
    "\n",
    "# plot the data with an automatically created plotter, for a static picture use backend='static'\n",
    "plotter = pv.Plotter(window_size=[800,800], notebook = True, off_screen=False)\n",
    "plotter.add_mesh(grid) #, clim=[minvel, maxvel])\n",
    "\n",
    "plotter.set_scale(xscale=0.1, yscale=10)\n",
    "\n",
    "# Set the camera for 2D view\n",
    "plotter.camera_position = 'xy'\n",
    "\n",
    "# Render the frame\n",
    "plotter.show()"
   ]
  },
  {
   "cell_type": "code",
   "execution_count": 23,
   "metadata": {},
   "outputs": [
    {
     "data": {
      "image/png": "[encoded data removed]",
      "text/plain": [
       "<Figure size 720x720 with 1 Axes>"
      ]
     },
     "metadata": {
      "needs_background": "light"
     },
     "output_type": "display_data"
    }
   ],
   "source": [
    "import matplotlib.pyplot as plt\n",
    "\n",
    "#Plot the seeds\n",
    "\n",
    "fig = plt.figure()\n",
    "fig.set_size_inches(10, 10, True)\n",
    "ax = fig.add_subplot()\n",
    "ax.scatter(C_test_3[:,0], C_test_3[:,1], color= 'red', s = 8)\n",
    "ax.scatter(C[3,:,0], C[3,:,1], color= 'blue', s = 8)\n",
    "# ax.set_xlim([-1.25e6, 1.25e6])\n",
    "# ax.set_ylim([-0.25e7, 3e7])\n",
    "ax.set_xlabel('X')\n",
    "ax.set_ylabel('Y')\n",
    "\n",
    "plt.show()"
   ]
  },
  {
   "cell_type": "code",
   "execution_count": 16,
   "metadata": {},
   "outputs": [
    {
     "name": "stdout",
     "output_type": "stream",
     "text": [
      "[-5.15763203e-01 -1.25833656e+03]\n"
     ]
    }
   ],
   "source": [
    "diff = np.linalg.norm(Z0_test.astype(float) - Z[0].astype(float), axis = 1) ** 2\n",
    "\n",
    "print(Z0_test[100]- Z[0,100])"
   ]
  },
  {
   "cell_type": "code",
   "execution_count": null,
   "metadata": {},
   "outputs": [],
   "source": [
    "import matplotlib.pyplot as plt\n",
    "import numpy as np\n",
    "\n",
    "#Plot the centroids\n",
    "\n",
    "fig = plt.figure()\n",
    "fig.set_size_inches(10, 10, True)\n",
    "ax = fig.add_subplot()\n",
    "ax.scatter(Z[:,0], Z[:,1], color= 'blue', s = 8)\n",
    "ax.set_xlim([np.max(Z[:,0]), np.min(Z[:,0])])\n",
    "ax.set_ylim([np.max(Z[:,1]), np.min(Z[:,1])])\n",
    "ax.set_xlabel('X')\n",
    "ax.set_ylabel('Y')\n",
    "\n",
    "plt.show()"
   ]
  }
 ],
 "metadata": {
  "kernelspec": {
   "display_name": "Python 3.10.12 64-bit",
   "language": "python",
   "name": "python3"
  },
  "language_info": {
   "codemirror_mode": {
    "name": "ipython",
    "version": 3
   },
   "file_extension": ".py",
   "mimetype": "text/x-python",
   "name": "python",
   "nbconvert_exporter": "python",
   "pygments_lexer": "ipython3",
   "version": "3.10.12"
  },
  "orig_nbformat": 4,
  "vscode": {
   "interpreter": {
    "hash": "916dbcbb3f70747c44a77c7bcd40155683ae19c65e1c03b4aa3499c5328201f1"
   }
  }
 },
 "nbformat": 4,
 "nbformat_minor": 2
}
