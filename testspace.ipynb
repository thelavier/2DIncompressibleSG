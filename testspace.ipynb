{
 "cells": [
  {
   "cell_type": "markdown",
   "metadata": {},
   "source": [
    "# Solving the Incompressible Semi-Geostrophic Problem in 2D\n",
    "\n",
    "First load in the neccessary packages and paths."
   ]
  },
  {
   "cell_type": "code",
   "execution_count": 2,
   "metadata": {},
   "outputs": [],
   "source": [
    "import initialconditions as ic\n",
    "import matplotlib.pyplot as plt\n",
    "\n",
    "import main as main\n",
    "import sys\n",
    "sys.path.append(\"/home/s2250115/petsc/arch-linux-c-debug/lib\")\n",
    "\n",
    "import animators as ani"
   ]
  },
  {
   "cell_type": "markdown",
   "metadata": {},
   "source": [
    "Now set up the initial condition and visualize it."
   ]
  },
  {
   "cell_type": "code",
   "execution_count": 4,
   "metadata": {},
   "outputs": [
    {
     "data": {
      "image/png": "[encoded data removed]",
      "text/plain": [
       "<Figure size 720x720 with 1 Axes>"
      ]
     },
     "metadata": {
      "needs_background": "light"
     },
     "output_type": "display_data"
    }
   ],
   "source": [
    "# Define the parameters of the system\n",
    "N = 16 #Number of seeds\n",
    "box = [-1, -2, 1, 2] #list or tuple defining domain [xmin, ymin, xmax, ymax]\n",
    "per_tol = 1e-3 #Percent tolerance\n",
    "periodic_x = False # Set the periodicity of X\n",
    "periodic_y = True # Set the periodicity of Y\n",
    "a = 1 # Set the replication parameter\n",
    "tf = 10 #Final time\n",
    "Ndt = 1000 #Number of timesteps\n",
    "\n",
    "#Initialize initial condition\n",
    "Z = ic.create_initial(N, -1, -2, 1, 2, 'lattice') \n",
    "\n",
    "#Plot the initial condition\n",
    "\n",
    "fig = plt.figure()\n",
    "fig.set_size_inches(10, 10, True)\n",
    "ax = fig.add_subplot()\n",
    "ax.scatter(Z[:,0], Z[:,1], color= 'red', s = 8)\n",
    "ax.set_xlim([-1, 1])\n",
    "ax.set_ylim([-5, 5])\n",
    "ax.set_xlabel('X')\n",
    "ax.set_ylabel('Y')\n",
    "\n",
    "plt.show()"
   ]
  },
  {
   "cell_type": "markdown",
   "metadata": {},
   "source": [
    "Solve the problem and save the data"
   ]
  },
  {
   "cell_type": "code",
   "execution_count": 5,
   "metadata": {},
   "outputs": [
    {
     "name": "stdout",
     "output_type": "stream",
     "text": [
      "Difference in initial and final weights 478.1306522357606\n",
      "Difference in initial and final weights 6.893880531735838\n",
      "Difference in initial and final weights 3.7307036931231203\n",
      "2\n",
      "Difference in initial and final weights 3.9818436556814882\n",
      "3\n",
      "Difference in initial and final weights 3.746221379691943\n",
      "4\n",
      "Difference in initial and final weights 3.5524153824763367\n",
      "5\n",
      "Difference in initial and final weights 116724828066265.6\n",
      "6\n",
      "Difference in initial and final weights 3.769431929970888\n",
      "7\n",
      "Difference in initial and final weights 3.7951073118482705\n",
      "8\n",
      "Difference in initial and final weights 3.818438320281357\n",
      "9\n",
      "Difference in initial and final weights 3.547948281530737\n",
      "10\n",
      "Difference in initial and final weights 14291671157.050661\n",
      "11\n",
      "Difference in initial and final weights 2.4474342702826046\n",
      "12\n",
      "Difference in initial and final weights 5.704686466137585\n",
      "13\n",
      "Difference in initial and final weights 15.94137256754703\n",
      "14\n",
      "Difference in initial and final weights 1345.0068860408423\n",
      "15\n",
      "Difference in initial and final weights 3.4426788271059854\n",
      "16\n",
      "Difference in initial and final weights 5.079601209366107\n",
      "17\n",
      "Difference in initial and final weights 3.088588114005576\n",
      "18\n",
      "Difference in initial and final weights 2.179978755786495\n",
      "19\n",
      "Difference in initial and final weights 1.3108767766500893\n",
      "20\n",
      "Difference in initial and final weights 208.8807449574666\n",
      "21\n"
     ]
    },
    {
     "ename": "",
     "evalue": "",
     "output_type": "error",
     "traceback": [
      "\u001b[1;31mCanceled future for execute_request message before replies were done"
     ]
    },
    {
     "ename": "",
     "evalue": "",
     "output_type": "error",
     "traceback": [
      "\u001b[1;31mThe Kernel crashed while executing code in the the current cell or a previous cell. Please review the code in the cell(s) to identify a possible cause of the failure. Click <a href='https://aka.ms/vscodeJupyterKernelCrash'>here</a> for more info. View Jupyter <a href='command:jupyter.viewOutput'>log</a> for further details."
     ]
    }
   ],
   "source": [
    "main.SG_solver(box, Z, N, per_tol, tf, Ndt, periodic_x, periodic_y, a) #Solve and save the solution"
   ]
  },
  {
   "cell_type": "markdown",
   "metadata": {},
   "source": [
    "Animate the solutions"
   ]
  },
  {
   "cell_type": "code",
   "execution_count": null,
   "metadata": {},
   "outputs": [],
   "source": [
    "ani.point_animator('./SG_data.npz', 'C', tf) #Animate the seeds or centroids depending on choice of 'Z' or 'C' \n",
    "ani.point_animator('./SG_data.npz', 'Z', tf) #Animate the seeds or centroids depending on choice of 'Z' or 'C' \n",
    "#ani.cell_animator('./SG_data.npz', box)"
   ]
  },
  {
   "cell_type": "markdown",
   "metadata": {},
   "source": [
    "# Code for experimenting with impelementing periodicity"
   ]
  },
  {
   "cell_type": "code",
   "execution_count": 2,
   "metadata": {},
   "outputs": [],
   "source": [
    "import scipy.io\n",
    "import numpy as np\n",
    "\n",
    "initialdata = scipy.io.loadmat('test_case.mat')\n",
    "\n",
    "Z_test_1 = initialdata['Z_test'][:,:,0]\n",
    "Z_test_2 = initialdata['Z_test'][:,:,1]\n",
    "Z_test_3 = initialdata['Z_test'][:,:,2]\n",
    "amp = initialdata['amp'][0][0]\n",
    "bx = initialdata['bx'][0]\n",
    "f = initialdata['f'][0][0]\n",
    "g = initialdata['g'][0][0]\n",
    "M = initialdata['M']\n",
    "Nsq = initialdata['Nsq'][0][0]\n",
    "s = initialdata['s'][0][0]\n",
    "th0 = initialdata['th0'][0][0]\n",
    "w_test_1 = initialdata['w_test'][:,0]\n",
    "w_test_2 = initialdata['w_test'][:,1]\n",
    "w_test_3 = initialdata['w_test'][:,2]"
   ]
  },
  {
   "cell_type": "code",
   "execution_count": 5,
   "metadata": {},
   "outputs": [],
   "source": [
    "from pysdot.domain_types import ConvexPolyhedraAssembly\n",
    "from pysdot import OptimalTransport\n",
    "from pysdot import PowerDiagram\n",
    "import numpy as np\n",
    "import pyvista as pv\n",
    "import weightguess as wg\n",
    "\n",
    "nb_diracs = 2678\n",
    "\n",
    "positions = Z_test_2\n",
    "masses =  M[0]\n",
    "\n",
    "domain = ConvexPolyhedraAssembly()\n",
    "domain.add_box([bx[0], bx[1]], [bx[2], bx[3]])\n",
    "box = bx\n",
    "psi = np.zeros(shape = (nb_diracs,))\n",
    "\n",
    "# we have to specify that dirac masses because by default, sdot takes ones * measure( domain ) / nb_diracs\n",
    "# and that's not what we want in this case\n",
    "w0 = w_test_2\n",
    "ot = OptimalTransport( positions = positions, domain = domain, masses = masses, weights = w0 )\n",
    "\n",
    "# first arg of add_replication is a translation\n",
    "#for x in [ -1, 1 ]:\n",
    "#    ot.pd.add_replication( [ x, 0 ] )\n",
    "\n",
    "ot.adjust_weights()\n",
    "\n",
    "filename = 'pb.vtk'\n",
    "ot.pd.display_vtk( 'pb.vtk' )"
   ]
  },
  {
   "cell_type": "code",
   "execution_count": 6,
   "metadata": {},
   "outputs": [
    {
     "name": "stdout",
     "output_type": "stream",
     "text": [
      "20449706054.02648\n",
      "[       0.          2449168.21053472 26470628.3356258  ...\n",
      "  3322241.45047258  2150871.11318154  5028115.70942062]\n"
     ]
    },
    {
     "name": "stderr",
     "output_type": "stream",
     "text": [
      "/home/s2250115/.local/lib/python3.10/site-packages/pyvista/jupyter/notebook.py:58: UserWarning: Failed to use notebook backend: \n",
      "\n",
      "No module named 'trame'\n",
      "\n",
      "Falling back to a static output.\n",
      "  warnings.warn(\n"
     ]
    },
    {
     "data": {
      "image/png": "[encoded data removed]",
      "text/plain": [
       "<PIL.Image.Image image mode=RGB size=800x800>"
      ]
     },
     "metadata": {},
     "output_type": "display_data"
    }
   ],
   "source": [
    "# Mass of cells\n",
    "vols=ot.pd.integrals()\n",
    "print(sum(vols))\n",
    "print(vols)\n",
    "\n",
    "# Read the data\n",
    "grid=pv.read(filename)\n",
    "\n",
    "# create cell data that gives the cell volumes, this allows us to colour by cell volumes\n",
    "cell_vols = vols[grid.cell_data['num'].astype(int)]\n",
    "grid.cell_data['vols']=cell_vols\n",
    "\n",
    "# plot the data with an automatically created plotter, for a static picture use backend='static'\n",
    "plotter = pv.Plotter(window_size=[800,800], notebook = True, off_screen=False)\n",
    "plotter.add_mesh(grid)\n",
    "\n",
    "# Render the frame\n",
    "plotter.show()"
   ]
  },
  {
   "cell_type": "code",
   "execution_count": null,
   "metadata": {},
   "outputs": [],
   "source": [
    "import matplotlib.pyplot as plt\n",
    "\n",
    "#Plot the initial condition\n",
    "\n",
    "fig = plt.figure()\n",
    "fig.set_size_inches(10, 10, True)\n",
    "ax = fig.add_subplot()\n",
    "ax.scatter(Z_test_3[:,0], Z_test_3[:,1], color= 'red', s = 8)\n",
    "ax.set_xlim([-1000000, 1000000])\n",
    "ax.set_ylim([-3000000, 30000000])\n",
    "ax.set_xlabel('X')\n",
    "ax.set_ylabel('Y')\n",
    "\n",
    "plt.show()"
   ]
  },
  {
   "cell_type": "code",
   "execution_count": null,
   "metadata": {},
   "outputs": [],
   "source": [
    "print(bx)"
   ]
  },
  {
   "cell_type": "code",
   "execution_count": null,
   "metadata": {},
   "outputs": [],
   "source": []
  }
 ],
 "metadata": {
  "kernelspec": {
   "display_name": "Python 3.10.6 64-bit",
   "language": "python",
   "name": "python3"
  },
  "language_info": {
   "codemirror_mode": {
    "name": "ipython",
    "version": 3
   },
   "file_extension": ".py",
   "mimetype": "text/x-python",
   "name": "python",
   "nbconvert_exporter": "python",
   "pygments_lexer": "ipython3",
   "version": "3.10.6"
  },
  "orig_nbformat": 4,
  "vscode": {
   "interpreter": {
    "hash": "916dbcbb3f70747c44a77c7bcd40155683ae19c65e1c03b4aa3499c5328201f1"
   }
  }
 },
 "nbformat": 4,
 "nbformat_minor": 2
}
