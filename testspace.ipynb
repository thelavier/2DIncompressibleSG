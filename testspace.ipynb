{
 "cells": [
  {
   "cell_type": "code",
   "execution_count": 1,
   "metadata": {},
   "outputs": [],
   "source": [
    "import initialconditions as ic\n",
    "import matplotlib.pyplot as plt\n",
    "\n",
    "import main as main\n",
    "import sys\n",
    "sys.path.append(\"/home/s2250115/petsc/arch-linux-c-debug/lib\")\n",
    "\n",
    "import animators as ani"
   ]
  },
  {
   "cell_type": "code",
   "execution_count": null,
   "metadata": {},
   "outputs": [],
   "source": [
    "# Define the parameters of the system\n",
    "N = 1225 #Number of seeds\n",
    "box = [0, 0, 1, 1] #list or tuple defining domain [xmin, ymin, xmax, ymax]\n",
    "per_tol = 1e-3 #Percent tolerance\n",
    "periodic_x = False # Set the periodicity of X\n",
    "periodic_y = False # Set the periodicity of Y\n",
    "tf = 1 #Final time\n",
    "Ndt = 100 #Number of timesteps\n",
    "\n",
    "#Initialize initial condition\n",
    "Z = ic.create_initial(N, -4, -4, 4, 4, 'lattice') \n",
    "\n",
    "#Plot the initial condition\n",
    "\n",
    "fig = plt.figure()\n",
    "fig.set_size_inches(10, 10, True)\n",
    "ax = fig.add_subplot()\n",
    "ax.scatter(Z[:,0], Z[:,1], c = Z[:,0], cmap = 'jet', edgecolor = 'none', s = 8)\n",
    "ax.set_xlim([-10, 10])\n",
    "ax.set_ylim([-10, 10])\n",
    "ax.set_xlabel('X')\n",
    "ax.set_ylabel('Y')\n",
    "\n",
    "plt.show()"
   ]
  },
  {
   "cell_type": "code",
   "execution_count": null,
   "metadata": {},
   "outputs": [],
   "source": [
    "main.SGSolver(box, Z, N, per_tol, tf, Ndt, periodic_x, periodic_y) #Solve and save the solution"
   ]
  },
  {
   "cell_type": "code",
   "execution_count": null,
   "metadata": {},
   "outputs": [],
   "source": [
    "ani.point_animator('./SG_data.npz', 'C', tf) #Animate the seeds or centroids depending on choice of 'Z' or 'C' \n",
    "ani.point_animator('./SG_data.npz', 'Z', tf) #Animate the seeds or centroids depending on choice of 'Z' or 'C' \n",
    "ani.cell_animator('./SG_data.npz', box)"
   ]
  },
  {
   "cell_type": "code",
   "execution_count": 2,
   "metadata": {},
   "outputs": [
    {
     "name": "stdout",
     "output_type": "stream",
     "text": [
      "9.0\n",
      "1.0000000000000007\n"
     ]
    }
   ],
   "source": [
    "from pysdot.domain_types import ConvexPolyhedraAssembly\n",
    "from pysdot import OptimalTransport\n",
    "from pysdot import PowerDiagram\n",
    "import numpy as np\n",
    "import pyvista as pv\n",
    "import weightguess as wg\n",
    "\n",
    "nb_diracs = 1000\n",
    "\n",
    "positions = np.random.rand( nb_diracs, 2 )\n",
    "\n",
    "domain = ConvexPolyhedraAssembly()\n",
    "domain.add_box([-1, -1], [2, 2])\n",
    "print(domain.measure())\n",
    "\n",
    "masses = np.ones( nb_diracs ) / nb_diracs\n",
    "#masses = domain.measure() / nb_diracs * np.ones(nb_diracs)\n",
    "print(sum(masses))\n",
    "\n",
    "#w0 = wg.Rescale_weights([-1, -1, 2, 2], positions, 0*np.ones( nb_diracs), False, False)[0]\n",
    "err_tol = ( 1e-3 / 100 ) * (1 / nb_diracs) \n",
    "\n",
    "# we have to specify that dirac masses because by default, sdot takes ones * measure( domain ) / nb_diracs\n",
    "# and that's not what we want in this case\n",
    "ot = OptimalTransport( positions, domain = domain, masses=masses) #, weights = w0)\n",
    "ot.set_stopping_criterion(err_tol, 'max delta masses') #Pick the stopping criterion to be the mass of the cells\n",
    "\n",
    "# first arg of add_replication is a translation\n",
    "for x in [ -1, 0, 1 ]:\n",
    "    for y in [ -1, 0, 1]:\n",
    "        if x or y:\n",
    "            ot.pd.add_replication( [ x, y] )\n",
    "\n",
    "#ot.adjust_weights()\n",
    "\n",
    "filename = 'pb.vtk'\n",
    "ot.display_vtk( 'pb.vtk' )"
   ]
  },
  {
   "cell_type": "code",
   "execution_count": 3,
   "metadata": {},
   "outputs": [
    {
     "name": "stdout",
     "output_type": "stream",
     "text": [
      "0.9999999999999994\n"
     ]
    },
    {
     "name": "stderr",
     "output_type": "stream",
     "text": [
      "/home/s2250115/.local/lib/python3.10/site-packages/pyvista/jupyter/notebook.py:58: UserWarning: Failed to use notebook backend: \n",
      "\n",
      "No module named 'trame'\n",
      "\n",
      "Falling back to a static output.\n",
      "  warnings.warn(\n"
     ]
    },
    {
     "data": {
      "image/png": "[encoded data removed]",
      "text/plain": [
       "<PIL.Image.Image image mode=RGB size=800x800>"
      ]
     },
     "metadata": {},
     "output_type": "display_data"
    }
   ],
   "source": [
    "# Mass of cells\n",
    "pd=PowerDiagram(positions=positions,weights=ot.get_weights(),domain=domain)\n",
    "vols=pd.integrals()\n",
    "print(sum(vols))\n",
    "\n",
    "# Read the data\n",
    "grid=pv.read(filename)\n",
    "\n",
    "# create cell data that gives the cell volumes, this allows us to colour by cell volumes\n",
    "cell_vols = vols[grid.cell_data['num'].astype(int)]\n",
    "grid.cell_data['vols']=cell_vols\n",
    "\n",
    "# plot the data with an automatically created plotter, for a static picture use backend='static'\n",
    "plotter = pv.Plotter(window_size=[800,800], notebook = True, off_screen=False)\n",
    "plotter.add_mesh(grid)\n",
    "\n",
    "# Render the frame\n",
    "plotter.show()"
   ]
  },
  {
   "cell_type": "code",
   "execution_count": null,
   "metadata": {},
   "outputs": [],
   "source": [
    "for x in [ -1, 0, 1 ]:\n",
    "    for y in [ -1, 0, 1 ]:\n",
    "        for z in [ -1, 0, 1]:\n",
    "            if x or y or z:\n",
    "                print(x, y, z)"
   ]
  }
 ],
 "metadata": {
  "kernelspec": {
   "display_name": "Python 3.10.6 64-bit",
   "language": "python",
   "name": "python3"
  },
  "language_info": {
   "codemirror_mode": {
    "name": "ipython",
    "version": 3
   },
   "file_extension": ".py",
   "mimetype": "text/x-python",
   "name": "python",
   "nbconvert_exporter": "python",
   "pygments_lexer": "ipython3",
   "version": "3.10.6"
  },
  "orig_nbformat": 4,
  "vscode": {
   "interpreter": {
    "hash": "916dbcbb3f70747c44a77c7bcd40155683ae19c65e1c03b4aa3499c5328201f1"
   }
  }
 },
 "nbformat": 4,
 "nbformat_minor": 2
}
