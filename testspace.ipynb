{
 "cells": [
  {
   "cell_type": "markdown",
   "metadata": {},
   "source": [
    "# Code for experimenting with impelementing periodicity"
   ]
  },
  {
   "cell_type": "code",
   "execution_count": null,
   "metadata": {},
   "outputs": [],
   "source": [
    "import scipy.io\n",
    "import numpy as np\n",
    "\n",
    "initialdata = scipy.io.loadmat('test_case.mat')\n",
    "\n",
    "Z_test_1 = initialdata['Z_test'][:,:,0]\n",
    "Z_test_2 = initialdata['Z_test'][:,:,1]\n",
    "Z_test_3 = initialdata['Z_test'][:,:,2]\n",
    "amp = initialdata['amp'][0][0]\n",
    "bx = initialdata['bx'][0]\n",
    "f = initialdata['f'][0][0]\n",
    "g = initialdata['g'][0][0]\n",
    "M = initialdata['M']\n",
    "Nsq = initialdata['Nsq'][0][0]\n",
    "s = initialdata['s'][0][0]\n",
    "th0 = initialdata['th0'][0][0]\n",
    "w_test_1 = initialdata['w_test'][:,0]\n",
    "w_test_2 = initialdata['w_test'][:,1]\n",
    "w_test_3 = initialdata['w_test'][:,2]"
   ]
  },
  {
   "cell_type": "code",
   "execution_count": null,
   "metadata": {},
   "outputs": [],
   "source": [
    "from pysdot.domain_types import ConvexPolyhedraAssembly\n",
    "from pysdot import OptimalTransport\n",
    "from pysdot import PowerDiagram\n",
    "import numpy as np\n",
    "import pyvista as pv\n",
    "import weightguess as wg\n",
    "\n",
    "nb_diracs = 2678\n",
    "\n",
    "positions = Z_test_2\n",
    "masses =  M[0]\n",
    "\n",
    "domain = ConvexPolyhedraAssembly()\n",
    "domain.add_box([bx[0], bx[1]], [bx[2], bx[3]])\n",
    "box = bx\n",
    "psi = np.zeros(shape = (nb_diracs,))\n",
    "\n",
    "# we have to specify that dirac masses because by default, sdot takes ones * measure( domain ) / nb_diracs\n",
    "# and that's not what we want in this case\n",
    "w0 = w_test_2\n",
    "ot = OptimalTransport( positions = positions, domain = domain, masses = masses, weights = w0 )\n",
    "\n",
    "# first arg of add_replication is a translation\n",
    "#for x in [ -1, 1 ]:\n",
    "#    ot.pd.add_replication( [ x, 0 ] )\n",
    "\n",
    "ot.adjust_weights()\n",
    "\n",
    "filename = 'pb.vtk'\n",
    "ot.pd.display_vtk( 'pb.vtk' )"
   ]
  },
  {
   "cell_type": "code",
   "execution_count": null,
   "metadata": {},
   "outputs": [],
   "source": [
    "# Mass of cells\n",
    "vols=ot.pd.integrals()\n",
    "print(sum(vols))\n",
    "print(vols)\n",
    "\n",
    "# Read the data\n",
    "grid=pv.read(filename)\n",
    "\n",
    "# create cell data that gives the cell volumes, this allows us to colour by cell volumes\n",
    "cell_vols = vols[grid.cell_data['num'].astype(int)]\n",
    "grid.cell_data['vols']=cell_vols\n",
    "\n",
    "# plot the data with an automatically created plotter, for a static picture use backend='static'\n",
    "plotter = pv.Plotter(window_size=[800,800], notebook = True, off_screen=False)\n",
    "plotter.add_mesh(grid)\n",
    "\n",
    "# Render the frame\n",
    "plotter.show()"
   ]
  },
  {
   "cell_type": "code",
   "execution_count": null,
   "metadata": {},
   "outputs": [],
   "source": [
    "import matplotlib.pyplot as plt\n",
    "\n",
    "#Plot the initial condition\n",
    "\n",
    "fig = plt.figure()\n",
    "fig.set_size_inches(10, 10, True)\n",
    "ax = fig.add_subplot()\n",
    "ax.scatter(Z_test_3[:,0], Z_test_3[:,1], color= 'red', s = 8)\n",
    "ax.set_xlim([-1000000, 1000000])\n",
    "ax.set_ylim([-3000000, 30000000])\n",
    "ax.set_xlabel('X')\n",
    "ax.set_ylabel('Y')\n",
    "\n",
    "plt.show()"
   ]
  },
  {
   "cell_type": "code",
   "execution_count": null,
   "metadata": {},
   "outputs": [],
   "source": [
    "print(bx)"
   ]
  }
 ],
 "metadata": {
  "language_info": {
   "name": "python"
  },
  "orig_nbformat": 4
 },
 "nbformat": 4,
 "nbformat_minor": 2
}
