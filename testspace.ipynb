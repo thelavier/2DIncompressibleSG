{
 "cells": [
  {
   "cell_type": "markdown",
   "metadata": {},
   "source": [
    "# Code for experimenting with impelementing periodicity"
   ]
  },
  {
   "cell_type": "code",
   "execution_count": 1,
   "metadata": {},
   "outputs": [
    {
     "ename": "KeyboardInterrupt",
     "evalue": "",
     "output_type": "error",
     "traceback": [
      "\u001b[0;31m---------------------------------------------------------------------------\u001b[0m",
      "\u001b[0;31mKeyboardInterrupt\u001b[0m                         Traceback (most recent call last)",
      "Cell \u001b[0;32mIn[1], line 5\u001b[0m\n\u001b[1;32m      2\u001b[0m \u001b[38;5;28;01mimport\u001b[39;00m \u001b[38;5;21;01mnumpy\u001b[39;00m \u001b[38;5;28;01mas\u001b[39;00m \u001b[38;5;21;01mnp\u001b[39;00m\n\u001b[1;32m      3\u001b[0m \u001b[38;5;28;01mimport\u001b[39;00m \u001b[38;5;21;01mauxfunctions\u001b[39;00m \u001b[38;5;28;01mas\u001b[39;00m \u001b[38;5;21;01maux\u001b[39;00m\n\u001b[0;32m----> 5\u001b[0m Z, C, W, m \u001b[38;5;241m=\u001b[39m \u001b[43maux\u001b[49m\u001b[38;5;241;43m.\u001b[39;49m\u001b[43mload_data_from_msgpack\u001b[49m\u001b[43m(\u001b[49m\u001b[38;5;124;43m'\u001b[39;49m\u001b[38;5;124;43m./data/SG_data_16071_30.msgpack\u001b[39;49m\u001b[38;5;124;43m'\u001b[39;49m\u001b[43m)\u001b[49m\n\u001b[1;32m      7\u001b[0m initialdata \u001b[38;5;241m=\u001b[39m scipy\u001b[38;5;241m.\u001b[39mio\u001b[38;5;241m.\u001b[39mloadmat(\u001b[38;5;124m'\u001b[39m\u001b[38;5;124m./data/1_step_solutions.mat\u001b[39m\u001b[38;5;124m'\u001b[39m)\n\u001b[1;32m      9\u001b[0m Z_test_1 \u001b[38;5;241m=\u001b[39m initialdata[\u001b[38;5;124m'\u001b[39m\u001b[38;5;124mZ\u001b[39m\u001b[38;5;124m'\u001b[39m][:,:,\u001b[38;5;241m0\u001b[39m]\n",
      "File \u001b[0;32m~/Desktop/PhDCodes/2DIncompressibleSG/auxfunctions.py:27\u001b[0m, in \u001b[0;36mload_data_from_msgpack\u001b[0;34m(data)\u001b[0m\n\u001b[1;32m     25\u001b[0m \u001b[38;5;28;01mfor\u001b[39;00m row \u001b[38;5;129;01min\u001b[39;00m unpacker:\n\u001b[1;32m     26\u001b[0m     seeds\u001b[38;5;241m.\u001b[39mappend(np\u001b[38;5;241m.\u001b[39marray(row\u001b[38;5;241m.\u001b[39mget(\u001b[38;5;124m'\u001b[39m\u001b[38;5;124mSeeds\u001b[39m\u001b[38;5;124m'\u001b[39m, []), dtype\u001b[38;5;241m=\u001b[39mnp\u001b[38;5;241m.\u001b[39mfloat64))\n\u001b[0;32m---> 27\u001b[0m     centroids\u001b[38;5;241m.\u001b[39mappend(\u001b[43mnp\u001b[49m\u001b[38;5;241;43m.\u001b[39;49m\u001b[43marray\u001b[49m\u001b[43m(\u001b[49m\u001b[43mrow\u001b[49m\u001b[38;5;241;43m.\u001b[39;49m\u001b[43mget\u001b[49m\u001b[43m(\u001b[49m\u001b[38;5;124;43m'\u001b[39;49m\u001b[38;5;124;43mCentroids\u001b[39;49m\u001b[38;5;124;43m'\u001b[39;49m\u001b[43m,\u001b[49m\u001b[43m \u001b[49m\u001b[43m[\u001b[49m\u001b[43m]\u001b[49m\u001b[43m)\u001b[49m\u001b[43m,\u001b[49m\u001b[43m \u001b[49m\u001b[43mdtype\u001b[49m\u001b[38;5;241;43m=\u001b[39;49m\u001b[43mnp\u001b[49m\u001b[38;5;241;43m.\u001b[39;49m\u001b[43mfloat64\u001b[49m\u001b[43m)\u001b[49m)\n\u001b[1;32m     28\u001b[0m     weights\u001b[38;5;241m.\u001b[39mappend(np\u001b[38;5;241m.\u001b[39marray(row\u001b[38;5;241m.\u001b[39mget(\u001b[38;5;124m'\u001b[39m\u001b[38;5;124mWeights\u001b[39m\u001b[38;5;124m'\u001b[39m, []), dtype\u001b[38;5;241m=\u001b[39mnp\u001b[38;5;241m.\u001b[39mfloat64))\n\u001b[1;32m     29\u001b[0m     mass\u001b[38;5;241m.\u001b[39mappend(np\u001b[38;5;241m.\u001b[39marray(row\u001b[38;5;241m.\u001b[39mget(\u001b[38;5;124m'\u001b[39m\u001b[38;5;124mMass\u001b[39m\u001b[38;5;124m'\u001b[39m, []), dtype\u001b[38;5;241m=\u001b[39mnp\u001b[38;5;241m.\u001b[39mfloat64))\n",
      "\u001b[0;31mKeyboardInterrupt\u001b[0m: "
     ]
    }
   ],
   "source": [
    "import scipy.io\n",
    "import numpy as np\n",
    "import auxfunctions as aux\n",
    "\n",
    "Z, C, W, m = aux.load_data_from_msgpack('./data/SG_data_16071_30.msgpack')\n",
    "\n",
    "initialdata = scipy.io.loadmat('./data/1_step_solutions.mat')\n",
    "\n",
    "Z_test_1 = initialdata['Z'][:,:,0]\n",
    "Z_test_2 = initialdata['Z'][:,:,1]\n",
    "Z_test_3 = initialdata['Z'][:,:,2]\n",
    "w_test_1 = initialdata['w'][:,0]\n",
    "w_test_2 = initialdata['w'][:,1]\n",
    "w_test_3 = initialdata['w'][:,2]\n",
    "Z0_test = initialdata['Z0']\n",
    "C_test_1 = initialdata['C'][:,:,0]\n",
    "C_test_2 = initialdata['C'][:,:,1]\n",
    "C_test_3 = initialdata['C'][:,:,2]\n",
    "\n",
    "bx = [-1000000.0, -5112.42651350665, 1000000.0, 5112.42651350665]\n",
    "\n",
    "print(np.shape(Z))"
   ]
  },
  {
   "cell_type": "code",
   "execution_count": null,
   "metadata": {},
   "outputs": [],
   "source": [
    "def check_distances(data):\n",
    "    num_timesteps, num_particles, _ = data.shape\n",
    "    threshold = 1/num_particles\n",
    "    \n",
    "    for t in range(num_timesteps):\n",
    "        # Compute pairwise distances for each timestep\n",
    "        # This is a simplified and memory-efficient approach for demonstration purposes\n",
    "        for i in range(num_particles):\n",
    "            for j in range(i + 1, num_particles):\n",
    "                if np.linalg.norm(data[t, i] - data[t, j]) <= threshold:\n",
    "                    return False  # Found a pair with distance <= threshold\n",
    "        print('Checked timestep', t)\n",
    "    return True  # All distances are > threshold\n",
    "\n",
    "# Check if all distances meet the criterion\n",
    "result = check_distances(Z)\n",
    "print(f\"All pairwise distances are greater than the threshold: {result}\")"
   ]
  },
  {
   "cell_type": "code",
   "execution_count": null,
   "metadata": {},
   "outputs": [],
   "source": [
    "import optimaltransportsolver as ots\n",
    "\n",
    "Z = Z_test_2\n",
    "D = ots.make_domain(bx, True, False)\n",
    "w0 = w_test_2\n",
    "per_tol = 1e-3\n",
    "\n",
    "sol = ots.ot_solve(D, Z, w0, per_tol, True, False, bx, solver = 'Scipy', debug = True)"
   ]
  },
  {
   "cell_type": "code",
   "execution_count": null,
   "metadata": {},
   "outputs": [],
   "source": [
    "import optimaltransportsolver as ots\n",
    "from pysdot import PowerDiagram\n",
    "import pyvista as pv\n",
    "\n",
    "Z = Z_test_2\n",
    "domain = ots.make_domain(bx, False, False)\n",
    "w0 = sol[1]\n",
    "C = sol[0]\n",
    "\n",
    "pd = PowerDiagram( positions = Z, domain = domain, weights = w0 )\n",
    "\n",
    "filename = 'pb.vtk'\n",
    "pd.display_vtk( filename )\n",
    "\n",
    "# Mass of cells\n",
    "colours=pd.integrals()\n",
    "\n",
    "# Read the data\n",
    "grid=pv.read(filename)\n",
    "\n",
    "# create cell data that gives the cell volumes, this allows us to colour by cell volumes\n",
    "cell_colours = colours[grid.cell_data['num'].astype(int)]\n",
    "grid.cell_data['colours']=cell_colours\n",
    "\n",
    "# plot the data with an automatically created plotter, for a static picture use backend='static'\n",
    "plotter = pv.Plotter(window_size=[800,800], notebook = True, off_screen=False)\n",
    "plotter.add_mesh(grid) #, clim=[minvel, maxvel])\n",
    "\n",
    "plotter.set_scale(xscale=0.1, yscale=10)\n",
    "\n",
    "# Set the camera for 2D view\n",
    "plotter.camera_position = 'xy'\n",
    "\n",
    "# Render the frame\n",
    "plotter.show()"
   ]
  },
  {
   "cell_type": "code",
   "execution_count": null,
   "metadata": {},
   "outputs": [],
   "source": [
    "import matplotlib.pyplot as plt\n",
    "\n",
    "#Plot the seeds\n",
    "\n",
    "fig = plt.figure()\n",
    "fig.set_size_inches(10, 10, True)\n",
    "ax = fig.add_subplot()\n",
    "ax.scatter(C_test_3[:,0], C_test_3[:,1], color= 'red', s = 8)\n",
    "ax.scatter(C[3,:,0], C[3,:,1], color= 'blue', s = 8)\n",
    "# ax.set_xlim([-1.25e6, 1.25e6])\n",
    "# ax.set_ylim([-0.25e7, 3e7])\n",
    "ax.set_xlabel('X')\n",
    "ax.set_ylabel('Y')\n",
    "\n",
    "plt.show()"
   ]
  },
  {
   "cell_type": "code",
   "execution_count": null,
   "metadata": {},
   "outputs": [],
   "source": [
    "diff = np.linalg.norm(Z0_test.astype(float) - Z[0].astype(float), axis = 1) ** 2\n",
    "\n",
    "print(Z0_test[100]- Z[0,100])"
   ]
  },
  {
   "cell_type": "code",
   "execution_count": 2,
   "metadata": {},
   "outputs": [
    {
     "ename": "NameError",
     "evalue": "name 'Z' is not defined",
     "output_type": "error",
     "traceback": [
      "\u001b[0;31m---------------------------------------------------------------------------\u001b[0m",
      "\u001b[0;31mNameError\u001b[0m                                 Traceback (most recent call last)",
      "Cell \u001b[0;32mIn[2], line 9\u001b[0m\n\u001b[1;32m      7\u001b[0m fig\u001b[38;5;241m.\u001b[39mset_size_inches(\u001b[38;5;241m10\u001b[39m, \u001b[38;5;241m10\u001b[39m, \u001b[38;5;28;01mTrue\u001b[39;00m)\n\u001b[1;32m      8\u001b[0m ax \u001b[38;5;241m=\u001b[39m fig\u001b[38;5;241m.\u001b[39madd_subplot()\n\u001b[0;32m----> 9\u001b[0m ax\u001b[38;5;241m.\u001b[39mscatter(\u001b[43mZ\u001b[49m[:,\u001b[38;5;241m0\u001b[39m], Z[:,\u001b[38;5;241m1\u001b[39m], color\u001b[38;5;241m=\u001b[39m \u001b[38;5;124m'\u001b[39m\u001b[38;5;124mblue\u001b[39m\u001b[38;5;124m'\u001b[39m, s \u001b[38;5;241m=\u001b[39m \u001b[38;5;241m8\u001b[39m)\n\u001b[1;32m     10\u001b[0m ax\u001b[38;5;241m.\u001b[39mset_xlim([np\u001b[38;5;241m.\u001b[39mmax(Z[:,\u001b[38;5;241m0\u001b[39m]), np\u001b[38;5;241m.\u001b[39mmin(Z[:,\u001b[38;5;241m0\u001b[39m])])\n\u001b[1;32m     11\u001b[0m ax\u001b[38;5;241m.\u001b[39mset_ylim([np\u001b[38;5;241m.\u001b[39mmax(Z[:,\u001b[38;5;241m1\u001b[39m]), np\u001b[38;5;241m.\u001b[39mmin(Z[:,\u001b[38;5;241m1\u001b[39m])])\n",
      "\u001b[0;31mNameError\u001b[0m: name 'Z' is not defined"
     ]
    },
    {
     "data": {
      "image/png": "[encoded data removed]",
      "text/plain": [
       "<Figure size 1000x1000 with 1 Axes>"
      ]
     },
     "metadata": {},
     "output_type": "display_data"
    }
   ],
   "source": [
    "import matplotlib.pyplot as plt\n",
    "import numpy as np\n",
    "\n",
    "#Plot the centroids\n",
    "\n",
    "fig = plt.figure()\n",
    "fig.set_size_inches(10, 10, True)\n",
    "ax = fig.add_subplot()\n",
    "ax.scatter(Z[:,0], Z[:,1], color= 'blue', s = 8)\n",
    "ax.set_xlim([np.max(Z[:,0]), np.min(Z[:,0])])\n",
    "ax.set_ylim([np.max(Z[:,1]), np.min(Z[:,1])])\n",
    "ax.set_xlabel('X')\n",
    "ax.set_ylabel('Y')\n",
    "\n",
    "plt.show()"
   ]
  },
  {
   "cell_type": "code",
   "execution_count": null,
   "metadata": {},
   "outputs": [],
   "source": [
    "import scipy.io\n",
    "\n",
    "data = scipy.io.loadmat('./data/LongData.mat')\n",
    "\n",
    "C_data = data['C'][:,:,:] \n",
    "Z_data = data['Z'][:,:,:] \n",
    "w_data = data['w'][:,:] "
   ]
  },
  {
   "cell_type": "code",
   "execution_count": null,
   "metadata": {},
   "outputs": [],
   "source": [
    "import matplotlib.pyplot as plt\n",
    "\n",
    "import numpy as np\n",
    "\n",
    "#Plot the centroids\n",
    "T = 248 #283 is max\n",
    "\n",
    "fig = plt.figure()\n",
    "fig.set_size_inches(10, 10, True)\n",
    "ax = fig.add_subplot()\n",
    "ax.scatter(C_data[:, 0, T], C_data[:, 1, T], color= 'blue', s = 8)\n",
    "ax.set_xlim([np.max(C_data[:, 0, T]), np.min(C_data[:, 0, T])])\n",
    "ax.set_ylim([np.max(C_data[:, 1, T]), np.min(C_data[:, 1, T])])\n",
    "ax.set_xlabel('X')\n",
    "ax.set_ylabel('Y')\n",
    "\n",
    "plt.show()"
   ]
  },
  {
   "cell_type": "markdown",
   "metadata": {},
   "source": [
    "# Check that the periodic and non-periodic transport costs are being correctly computed"
   ]
  },
  {
   "cell_type": "code",
   "execution_count": 3,
   "metadata": {},
   "outputs": [
    {
     "name": "stdout",
     "output_type": "stream",
     "text": [
      "Non-Periodic Transport Cost: 0.13541666666666666 Periodic Transport Cost: 0.11979166666666666\n"
     ]
    }
   ],
   "source": [
    "import numpy as np\n",
    "from pysdot import OptimalTransport\n",
    "from pysdot.domain_types import ConvexPolyhedraAssembly\n",
    "\n",
    "box = [0, -0.5, 1, 0.5] # Fundamental Domain\n",
    "Z = np.array([[0.25, 0], [0.5, 0]])\n",
    "psi0 = np.zeros(shape = (2,))\n",
    "\n",
    "#Constructs a domain to be passed to the laguerre functions\n",
    "def make_domain(box, PeriodicX, PeriodicY):\n",
    "    \"\"\"\n",
    "    Constructs a domain for the optimal transport problem.\n",
    "\n",
    "    Parameters:\n",
    "        box (list/tuple): Domain boundaries [xmin, ymin, zmin, xmax, ymax, zmax].\n",
    "        PeriodicX, PeriodicY (bool): Periodicity flags for each axis.\n",
    "\n",
    "    Returns:\n",
    "        ConvexPolyhedraAssembly: Domain object for the optimal transport solver.\n",
    "    \"\"\"\n",
    "    domain = ConvexPolyhedraAssembly()\n",
    "    Lx, Ly = [box[i+2] - box[i] for i in range(2)]\n",
    "\n",
    "    # Calculate the offset and size for each dimension based on periodicity\n",
    "    size = [2 * Lx if PeriodicX else box[2], \n",
    "            2 * Ly if PeriodicY else box[3]]\n",
    "\n",
    "    offset = [-Lx if PeriodicX else box[0], \n",
    "              -Ly if PeriodicY else box[1]]\n",
    "\n",
    "    domain.add_box(offset, size)\n",
    "    return domain\n",
    "\n",
    "#Solve the Optimal transport problem and return the centroids and weights\n",
    "def ot_solve(domain, Y, psi0, err_tol, PeriodicX, PeriodicY, box, solver = 'Petsc', debug = False):\n",
    "    \"\"\"\n",
    "    Solves the optimal transport problem and returns centroids, weights, and cell masses.\n",
    "\n",
    "    Parameters:\n",
    "        domain (ConvexPolyhedraAssembly): Source domain of the optimal transport problem.\n",
    "        Y (numpy.ndarray): Seed positions.\n",
    "        psi0 (numpy.ndarray): Initial weight guesses.\n",
    "        err_tol (float): Error tolerance for cell mass.\n",
    "        PeriodicX, PeriodicY (bool): Periodicity flags.\n",
    "        box (list/tuple): Domain boundaries.\n",
    "        solver (str): Linear solver to use ('Petsc' or 'Scipy').\n",
    "        debug (bool): Flag to enable debugging information.\n",
    "\n",
    "    Returns:\n",
    "        tuple: Centroids, optimal weights, and cell masses after optimization.\n",
    "    \"\"\"\n",
    "    N = Y.shape[0]\n",
    "    Lx, Ly = [abs(box[i+2] - box[i]) for i in range(2)]\n",
    "    ot = OptimalTransport(positions=Y, weights=psi0, masses=Lx * Ly * np.ones(N) / N, domain=domain, linear_solver=solver)\n",
    "    ot.set_stopping_criterion(err_tol, 'max delta masses')\n",
    "\n",
    "    # Adding replications based on periodicity\n",
    "    for x in range(-int(PeriodicX), int(PeriodicX) + 1):\n",
    "        for y in range(-int(PeriodicY), int(PeriodicY) + 1):\n",
    "            if x != 0 or y != 0:\n",
    "                ot.pd.add_replication([Lx * x, Ly * y])\n",
    "\n",
    "    premass = ot.get_masses() if debug else None\n",
    "    ot.adjust_weights()\n",
    "    psi = ot.get_weights()\n",
    "    postmass = ot.pd.integrals()\n",
    "    transportcost = ot.pd.second_order_moments()\n",
    "\n",
    "    if debug:\n",
    "        print('Difference in target and final mass', np.linalg.norm(premass - postmass) / np.linalg.norm(premass))\n",
    "\n",
    "    return ot.pd.centroids(), psi, postmass, transportcost\n",
    "\n",
    "# Construct the domain for our test probelm\n",
    "D1 = make_domain(box, False, False)\n",
    "D2 = make_domain(box, True, False)\n",
    "\n",
    "# Solve the optimal tranport problem\n",
    "sol1 = ot_solve(D1, Z, psi0, 1e-3, False, False, box)\n",
    "sol2 = ot_solve(D2, Z, psi0, 1e-3, True, False, box)\n",
    "\n",
    "# Extract and check the total transport cost\n",
    "print('Non-Periodic Transport Cost:', sum(sol1[3]), 'Periodic Transport Cost:', sum(sol2[3]))"
   ]
  }
 ],
 "metadata": {
  "kernelspec": {
   "display_name": "Python 3.10.12 64-bit",
   "language": "python",
   "name": "python3"
  },
  "language_info": {
   "codemirror_mode": {
    "name": "ipython",
    "version": 3
   },
   "file_extension": ".py",
   "mimetype": "text/x-python",
   "name": "python",
   "nbconvert_exporter": "python",
   "pygments_lexer": "ipython3",
   "version": "3.10.12"
  },
  "orig_nbformat": 4,
  "vscode": {
   "interpreter": {
    "hash": "916dbcbb3f70747c44a77c7bcd40155683ae19c65e1c03b4aa3499c5328201f1"
   }
  }
 },
 "nbformat": 4,
 "nbformat_minor": 2
}
