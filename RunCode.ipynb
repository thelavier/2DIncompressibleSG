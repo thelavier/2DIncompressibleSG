{
 "cells": [
  {
   "cell_type": "markdown",
   "metadata": {},
   "source": [
    "# Solving the Incompressible Semi-Geostrophic Problem in 2D\n",
    "\n",
    "First load in the neccessary packages and paths."
   ]
  },
  {
   "cell_type": "code",
   "execution_count": 1,
   "metadata": {},
   "outputs": [],
   "source": [
    "import initialconditions as ic\n",
    "import matplotlib.pyplot as plt\n",
    "import numpy as np\n",
    "\n",
    "import main as main\n",
    "import sys\n",
    "sys.path.append(\"/home/s2250115/petsc/arch-linux-c-debug/lib\")\n",
    "\n",
    "import animators as ani"
   ]
  },
  {
   "cell_type": "markdown",
   "metadata": {},
   "source": [
    "Now set up the initial condition and visualize it."
   ]
  },
  {
   "cell_type": "code",
   "execution_count": 2,
   "metadata": {},
   "outputs": [
    {
     "data": {
      "image/png": "[encoded data removed]",
      "text/plain": [
       "<Figure size 720x720 with 1 Axes>"
      ]
     },
     "metadata": {
      "needs_background": "light"
     },
     "output_type": "display_data"
    }
   ],
   "source": [
    "# Define the parameters of the system\n",
    "\n",
    "N = 16 # Number of seeds\n",
    "box = [-2, -1, 2, 1] # list or tuple defining domain [xmin, ymin, xmax, ymax]\n",
    "per_tol = 1e-3 # Percent tolerance\n",
    "periodic_x = True # Set the periodicity of X\n",
    "periodic_y = False # Set the periodicity of Y\n",
    "a = 2 # Set the replication parameter\n",
    "tf = 0.1 # Final time\n",
    "Ndt = 10 # Number of timesteps\n",
    "\n",
    "#Initialize initial condition\n",
    "\n",
    "Z = ic.create_artifical_initial(N, box[0], box[1], box[2], box[3], 'uniform', 0.8) \n",
    "\n",
    "#Plot the initial condition\n",
    "\n",
    "fig = plt.figure()\n",
    "fig.set_size_inches(10, 10, True)\n",
    "ax = fig.add_subplot()\n",
    "ax.scatter(Z[:,0], Z[:,1], color= 'red', s = 8)\n",
    "ax.set_xlim([np.min(Z[:,0]), np.max(Z[:,0])])\n",
    "ax.set_ylim([np.min(Z[:,1]), np.max(Z[:,1])])\n",
    "ax.set_xlabel('X')\n",
    "ax.set_ylabel('Y')\n",
    "\n",
    "plt.show()"
   ]
  },
  {
   "cell_type": "markdown",
   "metadata": {},
   "source": [
    "Solve the problem and save the data"
   ]
  },
  {
   "cell_type": "code",
   "execution_count": null,
   "metadata": {},
   "outputs": [],
   "source": [
    "main.SG_solver(box, Z, N, per_tol, tf, Ndt, periodic_x, periodic_y, a) #Solve and save the solution\n",
    "\n",
    "#Can specify solver and debug mode."
   ]
  },
  {
   "cell_type": "markdown",
   "metadata": {},
   "source": [
    "Animate the solutions"
   ]
  },
  {
   "cell_type": "code",
   "execution_count": null,
   "metadata": {},
   "outputs": [],
   "source": [
    "from pysdot import PowerDiagram\n",
    "from pysdot.domain_types import ConvexPolyhedraAssembly\n",
    "import pyvista as pv\n",
    "import imageio.v2 as iio\n",
    "\n",
    "ani.point_animator('./SG_data.npz', 'C', tf) #Animate the seeds or centroids depending on choice of 'Z' or 'C' \n",
    "ani.point_animator('./SG_data.npz', 'Z', tf) #Animate the seeds or centroids depending on choice of 'Z' or 'C' \n",
    "\n",
    "# Animate the cells\n",
    "\n",
    "#Construct domain\n",
    "domain = ConvexPolyhedraAssembly()\n",
    "domain.add_box([box[0], box[1]], [box[2], box[3]])\n",
    "\n",
    "# Load the data\n",
    "loaded_data = np.load('./SG_data.npz')\n",
    "\n",
    "# Access the individual arrays\n",
    "Z = loaded_data['data1']\n",
    "C = loaded_data['data2']\n",
    "w = loaded_data['data3']\n",
    "\n",
    "#Compute Meridonal Velocities to color the cells\n",
    "f = 1e-4\n",
    "M = [[0] * len(w[0]) for _ in range(len(w))]\n",
    "for i in range(len(w)):\n",
    "    for j in range(len(w[0])):\n",
    "        M[i][j] = f * (Z[i][j][0] - C[i][j][0])\n",
    "\n",
    "# Set up the animation parameters\n",
    "n_frames = len(w)  # Number of frames\n",
    "\n",
    "# Create an empty list to store frames\n",
    "frames = []\n",
    "\n",
    "# Generate frames for the animation\n",
    "for i in range(n_frames):\n",
    "\n",
    "    #Draw the tessellation\n",
    "    pd = PowerDiagram(positions = Z[i] , weights = w[i] , domain = domain)\n",
    "\n",
    "    # Store the meridonal wind speeds in an array\n",
    "    vols = np.array(M[i])\n",
    "\n",
    "    # Save the results in a .vtk file\n",
    "    filename = \"results.vtk\"\n",
    "    pd.display_vtk(filename)\n",
    "\n",
    "    # Read the data\n",
    "    grid=pv.read(filename)\n",
    "\n",
    "    # create cell data that gives the cell volumes, this allows us to colour by cell volumes\n",
    "    cell_vols = vols[grid.cell_data['num'].astype(int)]\n",
    "    grid.cell_data['vols']=cell_vols\n",
    "\n",
    "    # plot the data with an automatically created plotter, for a static picture use backend='static'\n",
    "    plotter = pv.Plotter(window_size=[800,800], notebook = False, off_screen=True)\n",
    "    plotter.add_mesh(grid)\n",
    "\n",
    "    # Render the frame\n",
    "    plotter.show()\n",
    "\n",
    "    # Add a headlight\n",
    "    light=pv.Light(light_type='headlight')\n",
    "    plotter.add_light(light)\n",
    "\n",
    "    # Get the frame as an image array\n",
    "    frame = plotter.screenshot(transparent_background=True)\n",
    "\n",
    "    # Add the frame to the list of frames\n",
    "    frames.append(frame)\n",
    "\n",
    "# Save the frames as an animation file\n",
    "output_file = './animations/SG_Cell_Animation.gif'\n",
    "iio.mimwrite(output_file, frames, format='gif', duration = 40)"
   ]
  }
 ],
 "metadata": {
  "kernelspec": {
   "display_name": "Python 3.10.6 64-bit",
   "language": "python",
   "name": "python3"
  },
  "language_info": {
   "codemirror_mode": {
    "name": "ipython",
    "version": 3
   },
   "file_extension": ".py",
   "mimetype": "text/x-python",
   "name": "python",
   "nbconvert_exporter": "python",
   "pygments_lexer": "ipython3",
   "version": "3.10.12"
  },
  "orig_nbformat": 4,
  "vscode": {
   "interpreter": {
    "hash": "916dbcbb3f70747c44a77c7bcd40155683ae19c65e1c03b4aa3499c5328201f1"
   }
  }
 },
 "nbformat": 4,
 "nbformat_minor": 2
}
