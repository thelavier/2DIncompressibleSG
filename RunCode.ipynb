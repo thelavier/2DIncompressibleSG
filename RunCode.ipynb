{
 "cells": [
  {
   "cell_type": "markdown",
   "metadata": {},
   "source": [
    "# Solving the Incompressible Semi-Geostrophic Problem in 2D\n",
    "\n",
    "First load in the neccessary packages and paths."
   ]
  },
  {
   "cell_type": "code",
   "execution_count": 1,
   "metadata": {},
   "outputs": [],
   "source": [
    "import initialconditions as ic\n",
    "import matplotlib.pyplot as plt\n",
    "import numpy as np\n",
    "from solvers import mainAB2\n",
    "from solvers import mainRK4"
   ]
  },
  {
   "cell_type": "markdown",
   "metadata": {},
   "source": [
    "Next define the system parameters."
   ]
  },
  {
   "cell_type": "code",
   "execution_count": 2,
   "metadata": {},
   "outputs": [],
   "source": [
    "# Define the parameters of the system\n",
    "\n",
    "per_tol = 1e-3 # Percent tolerance\n",
    "periodic_x = True # Set the periodicity of X\n",
    "periodic_y = False # Set the periodicity of Y\n",
    "# tf = 1.08*10**6\n",
    "tf = 2.16*10**6 # Final time (25 days in seconds)\n",
    "# dt = 5486.4 # Largest step size from JD Benamou (0.0635 days in seconds)\n",
    "# dt = 5400 # 1hr30 in seconds\n",
    "# dt = 3196.8 # Smallest step size from JD Benamou (0.037 days in seconds)\n",
    "# dt = 3600 # 1hr in seconds\n",
    "dt = 1800 # Smallest step size that I run (30 min in seconds)\n",
    "# dt = 120\n",
    "Ndt = int(np.ceil(tf / dt)) # Number of timesteps"
   ]
  },
  {
   "cell_type": "markdown",
   "metadata": {},
   "source": [
    "Now set up the initial condition and visualize it."
   ]
  },
  {
   "cell_type": "code",
   "execution_count": 3,
   "metadata": {},
   "outputs": [
    {
     "name": "stdout",
     "output_type": "stream",
     "text": [
      "(64284, 2)\n"
     ]
    },
    {
     "data": {
      "image/png": "[encoded data removed]",
      "text/plain": [
       "<Figure size 1000x1000 with 1 Axes>"
      ]
     },
     "metadata": {},
     "output_type": "display_data"
    }
   ],
   "source": [
    "# Dimensional parameters\n",
    "\n",
    "g = 10 # acceleration due to gravity\n",
    "s = -3e-6 # latitudinal temperature gradient\n",
    "f = 1e-4 # coriolis parameter\n",
    "th0 = 3e+2 # reference potential temperature\n",
    "L = 1e+6 # half-domain length\n",
    "H = np.nan # domain height (will be redefined to set parameter regime as stable) for unstable and stable initial conditions\n",
    "# H = 1e+4 # domain height for Visram and Cullen initial conditions\n",
    "N = 5e-3 # bouyancy frequency\n",
    "a = -7.5 # amplitude of perturbation for stable and unstable initial conditions\n",
    "# a = 0.25 # amplitude of perturbation for Visram and Cullen initial conditions\n",
    "timescale = g * s / f / th0\n",
    "\n",
    "# Simulation parameters for physical initial conditions\n",
    "\n",
    "numCols = 66 # desired number of columns of seeds for stable and unstable inititial conditions (66 = 64284)\n",
    "# numCols = 7 # desired number of columns of seeds for Visram and Cullen initial conditions\n",
    "\n",
    "#Initialize physical initial condition\n",
    "\n",
    "Z0, box = ic.create_inital('unstable', g, s, f, th0, L, H, N, a, numCols, periodic_x, periodic_y)\n",
    "\n",
    "print(np.shape(Z0))\n",
    "\n",
    "#Plot the initial condition\n",
    "\n",
    "fig = plt.figure()\n",
    "fig.set_size_inches(10, 10, True)\n",
    "ax = fig.add_subplot()\n",
    "ax.scatter(Z0[:,0], Z0[:,1], color= 'blue', s = 10)\n",
    "ax.set_xlim([-1 * 10 ** 6, 1 * 10 ** 6])\n",
    "ax.set_ylim([-1 * 10 ** 8, 1 * 10 ** 8])\n",
    "ax.set_xlabel('X')\n",
    "ax.set_ylabel('Y')\n",
    "\n",
    "plt.show()"
   ]
  },
  {
   "cell_type": "markdown",
   "metadata": {},
   "source": [
    "Solve the problem and save the data"
   ]
  },
  {
   "cell_type": "code",
   "execution_count": null,
   "metadata": {},
   "outputs": [],
   "source": [
    "# mainAB2.SG_solver(box, Z0, per_tol, tf, Ndt, periodic_x, periodic_y, timescale, solver = 'Petsc', debug = True) #Solve and save the solution\n",
    "mainRK4.SG_solver(box, Z0, per_tol, tf, Ndt, periodic_x, periodic_y, timescale, solver = 'Petsc', debug = True) #Solve and save the solution\n",
    "\n",
    "#Can specify solver and debug mode."
   ]
  },
  {
   "cell_type": "markdown",
   "metadata": {},
   "source": [
    "# Animations\n",
    "\n",
    "First we animate the particles"
   ]
  },
  {
   "cell_type": "code",
   "execution_count": null,
   "metadata": {},
   "outputs": [],
   "source": [
    "import animators as ani\n",
    "\n",
    "# Animate the particles\n",
    "\n",
    "ani.point_animator('./data/RK4_SG_data.msgpack', 'C', box, tf) #Animate the seeds or centroids depending on choice of 'Z' or 'C' \n",
    "ani.point_animator('./data/RK4_SG_data.msgpack', 'Z', box, tf) #Animate the seeds or centroids depending on choice of 'Z' or 'C' "
   ]
  },
  {
   "cell_type": "markdown",
   "metadata": {},
   "source": [
    "Next load in the data and plot meta properties to animate the cells"
   ]
  },
  {
   "cell_type": "code",
   "execution_count": 4,
   "metadata": {},
   "outputs": [],
   "source": [
    "import auxfunctions as aux\n",
    "\n",
    "# Load the data from the MessagePack file\n",
    "Z, C, W, M, TC = aux.load_data('./data/RK4_SG_data_highres.msgpack')\n",
    "\n",
    "# Compute the Velocities, Temperature, and Kinetic Energy\n",
    "MVel, T, TE, EnergyError = aux.get_properties(Z, C, M, TC, th0, f, g, box)"
   ]
  },
  {
   "cell_type": "markdown",
   "metadata": {},
   "source": [
    "Plotting Energy"
   ]
  },
  {
   "cell_type": "code",
   "execution_count": null,
   "metadata": {},
   "outputs": [],
   "source": [
    "# Calculate time in days for each timestep\n",
    "time_steps = np.arange(len(TE))\n",
    "days = time_steps / 48.0  # Convert timesteps to days\n",
    "\n",
    "# Create a line plot\n",
    "plt.plot(days, TE)\n",
    "\n",
    "# Add labels and title\n",
    "plt.xlabel('Time (Days)')\n",
    "plt.ylabel('Error in Energy')\n",
    "#plt.ylim(0.5, 3.5e10)\n",
    "plt.title('Evolution of Error in Energy')\n",
    "\n",
    "# Save the figure\n",
    "#plt.savefig('error_energy_evolution.png', dpi=300)  # Save as high-resolution PNG file\n",
    "\n",
    "plt.show()"
   ]
  },
  {
   "cell_type": "markdown",
   "metadata": {},
   "source": [
    "Plot Seeds and Centroids"
   ]
  },
  {
   "cell_type": "code",
   "execution_count": null,
   "metadata": {},
   "outputs": [],
   "source": [
    "fig = plt.figure()\n",
    "fig.set_size_inches(10, 10, True)\n",
    "ax = fig.add_subplot()\n",
    "ax.scatter(Z[192][:,0], Z[192][:,1], color= 'blue', s = 10) # 480 = 10 days, 336 = 7 days, 192 = 4 days\n",
    "ax.set_xlim([-1 * 10 ** 6, 1 * 10 ** 6])\n",
    "ax.set_ylim([-1.6 * 10 ** 8, 1.6 * 10 ** 8])\n",
    "ax.set_xlabel('X')\n",
    "ax.set_ylabel('Y')\n",
    "\n",
    "# Save the figure\n",
    "plt.savefig('seeds_day_4.png', dpi=300)  # Save as high-resolution PNG file\n",
    "\n",
    "plt.show()"
   ]
  },
  {
   "cell_type": "markdown",
   "metadata": {},
   "source": [
    "Plot Cells (MVel and Temperature)"
   ]
  },
  {
   "cell_type": "code",
   "execution_count": 10,
   "metadata": {},
   "outputs": [
    {
     "data": {
      "text/plain": [
       "pyvista_ndarray([[[255, 255, 255],\n",
       "                  [255, 255, 255],\n",
       "                  [255, 255, 255],\n",
       "                  ...,\n",
       "                  [255, 255, 255],\n",
       "                  [255, 255, 255],\n",
       "                  [255, 255, 255]],\n",
       "\n",
       "                 [[255, 255, 255],\n",
       "                  [255, 255, 255],\n",
       "                  [255, 255, 255],\n",
       "                  ...,\n",
       "                  [255, 255, 255],\n",
       "                  [255, 255, 255],\n",
       "                  [255, 255, 255]],\n",
       "\n",
       "                 [[255, 255, 255],\n",
       "                  [255, 255, 255],\n",
       "                  [255, 255, 255],\n",
       "                  ...,\n",
       "                  [255, 255, 255],\n",
       "                  [255, 255, 255],\n",
       "                  [255, 255, 255]],\n",
       "\n",
       "                 ...,\n",
       "\n",
       "                 [[255, 255, 255],\n",
       "                  [255, 255, 255],\n",
       "                  [255, 255, 255],\n",
       "                  ...,\n",
       "                  [255, 255, 255],\n",
       "                  [255, 255, 255],\n",
       "                  [255, 255, 255]],\n",
       "\n",
       "                 [[255, 255, 255],\n",
       "                  [255, 255, 255],\n",
       "                  [255, 255, 255],\n",
       "                  ...,\n",
       "                  [255, 255, 255],\n",
       "                  [255, 255, 255],\n",
       "                  [255, 255, 255]],\n",
       "\n",
       "                 [[255, 255, 255],\n",
       "                  [255, 255, 255],\n",
       "                  [255, 255, 255],\n",
       "                  ...,\n",
       "                  [255, 255, 255],\n",
       "                  [255, 255, 255],\n",
       "                  [255, 255, 255]]], dtype=uint8)"
      ]
     },
     "execution_count": 10,
     "metadata": {},
     "output_type": "execute_result"
    }
   ],
   "source": [
    "import optimaltransportsolver as ots\n",
    "from pysdot import PowerDiagram\n",
    "import pyvista as pv\n",
    "\n",
    "# Time to plot at\n",
    "i = 192\n",
    "\n",
    "# Pick colouring\n",
    "coloring = 'Temp' # Chose how to colour the cells can be temperature ('Temp'), meridional velocity ('MVel') \n",
    "\n",
    "# Define a dictionary to map the coloring options to cell data attribute names\n",
    "coloring_to_attr_name = {\n",
    "    'Temp': 'Temperature',\n",
    "    'MVel': 'Meridional Velocity'\n",
    "}\n",
    "\n",
    "#Construct domain\n",
    "domain = ots.make_domain(box, periodic_x, periodic_y)\n",
    "\n",
    "#Draw the tessellation\n",
    "Lx, Ly = [abs(box[i+2] - box[i]) for i in range(2)]\n",
    "pd = PowerDiagram(positions = Z[i], weights = W[i], domain = domain)\n",
    "for x in range(-int(periodic_x), int(periodic_x) + 1):\n",
    "        for y in range(-int(periodic_y), int(periodic_y) + 1):\n",
    "            if x != 0 or y != 0:\n",
    "                pd.add_replication([Lx * x, Ly * y])\n",
    "\n",
    "# Save the results in a .vtk file\n",
    "filename = \"./data/cells.vtk\"\n",
    "pd.display_vtk(filename)\n",
    "\n",
    "# Store the volumes in an array\n",
    "if coloring == 'MVel':\n",
    "    minval = np.min(MVel)\n",
    "    maxval = np.max(MVel)\n",
    "    colours = np.array(MVel[i])\n",
    "elif coloring == 'Temp':\n",
    "    minval = np.min(T)\n",
    "    maxval = np.max(T)\n",
    "    colours = np.array(T[i])\n",
    "else:\n",
    "    raise ValueError('Please specify how you want to colour the cells')\n",
    "\n",
    "# Read the data\n",
    "grid=pv.read(filename)\n",
    "\n",
    "# Create cell data that gives the cell volumes, this allows us to colour by cell the velocity or the temperature\n",
    "cell_colours = colours[grid.cell_data['num'].astype(int)]\n",
    "grid.cell_data[coloring_to_attr_name[coloring]] = cell_colours\n",
    "\n",
    "# plot the data with an automatically created plotter, for a static picture use backend='static'\n",
    "plotter = pv.Plotter(window_size=[800,800], notebook = False, off_screen = True)\n",
    "plotter.add_mesh(grid, clim = [minval, maxval], cmap = 'jet')\n",
    "plotter.set_scale(xscale = 1, yscale = 100)\n",
    "\n",
    "# Set the camera for 2D view\n",
    "plotter.camera_position = 'xy'\n",
    "\n",
    "# Render the frame and save the screenshot\n",
    "image_path = 'Temp_4.png'  # Specify your desired image file path\n",
    "plotter.show()\n",
    "plotter.screenshot(image_path, transparent_background = True)  # Save the screenshot"
   ]
  },
  {
   "cell_type": "markdown",
   "metadata": {},
   "source": [
    "Next animate the cells"
   ]
  },
  {
   "cell_type": "code",
   "execution_count": null,
   "metadata": {},
   "outputs": [],
   "source": [
    "import optimaltransportsolver as ots\n",
    "from pysdot import PowerDiagram\n",
    "import pyvista as pv\n",
    "import imageio.v2 as iio\n",
    "\n",
    "# Animate the cells\n",
    "\n",
    "coloring = 'Temp' # Chose how to colour the cells can be temperature ('Temp'), meridional velocity ('MVel') \n",
    "\n",
    "# Define a dictionary to map the coloring options to cell data attribute names\n",
    "coloring_to_attr_name = {\n",
    "    'Temp': 'Temperature',\n",
    "    'MVel': 'Meridional Velocity'\n",
    "}\n",
    "\n",
    "#Construct domain\n",
    "domain = ots.make_domain(box, False, False)\n",
    "\n",
    "# Set up the animation parameters\n",
    "n_frames = len(W)  # Number of frames\n",
    "\n",
    "# Create an empty list to store frames\n",
    "frames = []\n",
    "\n",
    "# Generate frames for the animation\n",
    "for i in range(n_frames):\n",
    "\n",
    "    #Draw the tessellation\n",
    "    pd = PowerDiagram(positions = Z[i], weights = W[i], domain = domain)\n",
    "\n",
    "    # Save the results in a .vtk file\n",
    "    filename = \"./data/cells.vtk\"\n",
    "    pd.display_vtk(filename)\n",
    "\n",
    "    # Store the volumes in an array\n",
    "    if coloring == 'MVel':\n",
    "        minval = np.min(MVel)\n",
    "        maxval = np.max(MVel)\n",
    "        colours = np.array(MVel[i])\n",
    "    elif coloring == 'Temp':\n",
    "        minval = np.min(T)\n",
    "        maxval = np.max(T)\n",
    "        colours = np.array(T[i])\n",
    "    else:\n",
    "        raise ValueError('Please specify how you want to colour the cells')\n",
    "\n",
    "    # Read the data\n",
    "    grid=pv.read(filename)\n",
    "\n",
    "    # Create cell data that gives the cell volumes, this allows us to colour by cell the velocity or the temperature\n",
    "    cell_colours = colours[grid.cell_data['num'].astype(int)]\n",
    "    grid.cell_data[coloring_to_attr_name[coloring]] = cell_colours\n",
    "\n",
    "    # plot the data with an automatically created plotter, for a static picture use backend='static'\n",
    "    plotter = pv.Plotter(window_size=[800,800], notebook = False, off_screen = True)\n",
    "    plotter.add_mesh(grid, clim = [minval, maxval], cmap = 'jet')\n",
    "    plotter.set_scale(xscale = 1, yscale = 100)\n",
    "\n",
    "    # Set the camera for 2D view\n",
    "    plotter.camera_position = 'xy'\n",
    "\n",
    "    # Render the frame\n",
    "    plotter.show()\n",
    "\n",
    "    # Get the frame as an image array using screenshot\n",
    "    frame = plotter.screenshot(transparent_background = True)\n",
    "\n",
    "    # Add the frame to the list of frames\n",
    "    frames.append(frame)\n",
    "\n",
    "# Save the frames as an animation file\n",
    "output_file = './animations/SG_Cell_Animation.gif'\n",
    "iio.mimwrite(output_file, frames, format = 'gif', fps = 30)"
   ]
  },
  {
   "cell_type": "markdown",
   "metadata": {},
   "source": [
    "# Combine and syncronize the animations"
   ]
  },
  {
   "cell_type": "code",
   "execution_count": null,
   "metadata": {},
   "outputs": [],
   "source": [
    "import matplotlib.pyplot as plt\n",
    "import matplotlib.animation as animation\n",
    "from PIL import Image\n",
    "\n",
    "# Function to read GIF frames\n",
    "def read_gif(gif_path):\n",
    "    img = Image.open(gif_path)\n",
    "    frames = []\n",
    "    try:\n",
    "        while True:\n",
    "            frames.append(img.copy())\n",
    "            img.seek(len(frames))\n",
    "    except EOFError:\n",
    "        pass\n",
    "    return frames\n",
    "\n",
    "# Paths to your GIFs\n",
    "gif1_path = './animations/SG_Cell_Animation.gif'\n",
    "gif2_path = './animations/SG_Centroids_2D.gif'\n",
    "gif3_path = './animations/SG_Seeds_2D.gif'\n",
    "\n",
    "# Read GIF frames\n",
    "frames1 = read_gif(gif1_path)\n",
    "frames2 = read_gif(gif2_path)\n",
    "frames3 = read_gif(gif3_path)\n",
    "\n",
    "# Create a figure and axes\n",
    "fig, axes = plt.subplots(1, 3, figsize=(15, 5))\n",
    "\n",
    "# Display each GIF on a separate subplot\n",
    "ims = []\n",
    "\n",
    "for ax, frames in zip(axes, [frames1, frames2, frames3]):\n",
    "    im = ax.imshow(frames[0], animated=True)\n",
    "    ims.append([im])\n",
    "\n",
    "# Update function for the animation\n",
    "def update(frame):\n",
    "    for im, frames in zip(ims, [frames1, frames2, frames3]):\n",
    "        im[0].set_array(frames[frame])\n",
    "\n",
    "# Create the animation\n",
    "ani = animation.FuncAnimation(fig, update, frames=len(frames1), repeat=False, blit=False)\n",
    "\n",
    "# Save the animation (uncomment the line below to save)\n",
    "ani.save('./animations/Combined_Animation.gif', writer='pillow', fps=30)"
   ]
  }
 ],
 "metadata": {
  "kernelspec": {
   "display_name": "Python 3.10.6 64-bit",
   "language": "python",
   "name": "python3"
  },
  "language_info": {
   "codemirror_mode": {
    "name": "ipython",
    "version": 3
   },
   "file_extension": ".py",
   "mimetype": "text/x-python",
   "name": "python",
   "nbconvert_exporter": "python",
   "pygments_lexer": "ipython3",
   "version": "3.10.12"
  },
  "orig_nbformat": 4,
  "vscode": {
   "interpreter": {
    "hash": "916dbcbb3f70747c44a77c7bcd40155683ae19c65e1c03b4aa3499c5328201f1"
   }
  }
 },
 "nbformat": 4,
 "nbformat_minor": 2
}
