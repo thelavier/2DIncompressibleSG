{
 "cells": [
  {
   "cell_type": "markdown",
   "metadata": {},
   "source": [
    "# Solving the Incompressible Semi-Geostrophic Problem in 2D\n",
    "\n",
    "First load in the neccessary packages and paths."
   ]
  },
  {
   "cell_type": "code",
   "execution_count": 1,
   "metadata": {},
   "outputs": [],
   "source": [
    "import initialconditions as ic\n",
    "import matplotlib.pyplot as plt\n",
    "import numpy as np\n",
    "\n",
    "import main as main\n",
    "import sys\n",
    "sys.path.append(\"/home/s2250115/petsc/arch-linux-c-debug/lib\")"
   ]
  },
  {
   "cell_type": "markdown",
   "metadata": {},
   "source": [
    "Next define the system parameters."
   ]
  },
  {
   "cell_type": "code",
   "execution_count": 2,
   "metadata": {},
   "outputs": [],
   "source": [
    "# Define the parameters of the system\n",
    "\n",
    "per_tol = 1e-3 # Percent tolerance\n",
    "periodic_x = True # Set the periodicity of X\n",
    "periodic_y = False # Set the periodicity of Y\n",
    "tf = 240\n",
    "# tf = 2.16*10**6 # Final time (25 days in seconds)\n",
    "# dt = 5486.4 # Largest step size from JD Benamou (0.0635 days in seconds)\n",
    "# dt = 5400 # 1hr30 in seconds\n",
    "# dt = 3196.8 # Smallest step size from JD Benamou (0.037 days in seconds)\n",
    "# dt = 3600 # 1hr in seconds\n",
    "# dt = 1800 # Smallest step size that I run (30 min in seconds)\n",
    "dt = 60\n",
    "Ndt = int(np.ceil(tf / dt)) # Number of timesteps"
   ]
  },
  {
   "cell_type": "markdown",
   "metadata": {},
   "source": [
    "Now set up the initial condition and visualize it."
   ]
  },
  {
   "cell_type": "code",
   "execution_count": 3,
   "metadata": {},
   "outputs": [
    {
     "data": {
      "image/png": "[encoded data removed]",
      "text/plain": [
       "<Figure size 720x720 with 1 Axes>"
      ]
     },
     "metadata": {
      "needs_background": "light"
     },
     "output_type": "display_data"
    }
   ],
   "source": [
    "# Dimensional parameters\n",
    "\n",
    "g = 10 # acceleration due to gravity\n",
    "s = -3e-6 # latitudinal temperature gradient\n",
    "f = 1e-4 # coriolis parameter\n",
    "th0 = 3e+2 # reference potential temperature\n",
    "L = 1e+6 # half-domain length\n",
    "H = np.nan # domain height (will be redefined to set parameter regime as stable) for unstable and stable initial conditions\n",
    "# H = 1e+4 # domain height for Visram and Cullen initial conditions\n",
    "N = 5e-3 # bouyancy frequency\n",
    "a = -7.5 # amplitude of perturbation for stable and unstable initial conditions\n",
    "# a = 0.25 # amplitude of perturbation for Visram and Cullen initial conditions\n",
    "timescale = - g * s / f / th0\n",
    "\n",
    "# Simulation parameters for physical initial conditions\n",
    "\n",
    "numCols = 6 # desired number of columns of seeds for stable and unstable inititial conditions (66 = 64284)\n",
    "# numCols = 7 # desired number of columns of seeds for Visram and Cullen initial conditions\n",
    "\n",
    "#Initialize physical initial condition\n",
    "\n",
    "Z, box = ic.create_inital('unstable', g, s, f, th0, L, H, N, a, numCols, periodic_x, periodic_y)\n",
    "\n",
    "#Plot the initial condition\n",
    "\n",
    "fig = plt.figure()\n",
    "fig.set_size_inches(10, 10, True)\n",
    "ax = fig.add_subplot()\n",
    "ax.scatter(Z[:,0], Z[:,1], color= 'red', s = 10)\n",
    "ax.set_xlim([-1 * 10 ** 6, 1 * 10 ** 6])\n",
    "ax.set_ylim([-1 * 10 ** 8, 1 * 10 ** 8])\n",
    "ax.set_xlabel('X')\n",
    "ax.set_ylabel('Y')\n",
    "\n",
    "plt.show()"
   ]
  },
  {
   "cell_type": "markdown",
   "metadata": {},
   "source": [
    "Solve the problem and save the data"
   ]
  },
  {
   "cell_type": "code",
   "execution_count": 4,
   "metadata": {},
   "outputs": [
    {
     "name": "stdout",
     "output_type": "stream",
     "text": [
      "Time Step 0\n",
      "Difference in target and final mass 6.974814837398648e-08\n",
      "Time Step 1\n",
      "Difference in target and final mass 6.983519495417436e-08\n",
      "Time Step 2\n",
      "Difference in target and final mass 6.995056436544418e-08\n",
      "Time Step 3\n",
      "Difference in target and final mass 7.008833262986475e-08\n"
     ]
    }
   ],
   "source": [
    "main.SG_solver(box, Z, per_tol, tf, Ndt, periodic_x, periodic_y, timescale, solver = 'Scipy', debug = True) #Solve and save the solution\n",
    "\n",
    "#Can specify solver and debug mode."
   ]
  },
  {
   "cell_type": "markdown",
   "metadata": {},
   "source": [
    "# Animations\n",
    "\n",
    "First we animate the particles"
   ]
  },
  {
   "cell_type": "code",
   "execution_count": null,
   "metadata": {},
   "outputs": [],
   "source": [
    "import animators as ani\n",
    "\n",
    "# Animate the particles\n",
    "\n",
    "ani.point_animator('./data/SG_data.msgpack', 'C', box, tf) #Animate the seeds or centroids depending on choice of 'Z' or 'C' \n",
    "ani.point_animator('./data/SG_data.msgpack', 'Z', box, tf) #Animate the seeds or centroids depending on choice of 'Z' or 'C' "
   ]
  },
  {
   "cell_type": "markdown",
   "metadata": {},
   "source": [
    "Next load in the data to animate the cells"
   ]
  },
  {
   "cell_type": "code",
   "execution_count": null,
   "metadata": {},
   "outputs": [],
   "source": [
    "import auxfunctions as aux\n",
    "\n",
    "# Load the data from the MessagePack file\n",
    "Z, C, W, M = aux.load_data('./data/SG_data_16071_30.msgpack')\n",
    "\n",
    "# Compute the Velocities, Temperature, and Kinetic Energy\n",
    "MVel, T, TE, EnergyError = aux.Properties(Z, C, M, th0, f, g, box)\n",
    "\n",
    "# Create a line plot\n",
    "plt.plot(TE)\n",
    "\n",
    "# Add labels and title\n",
    "plt.xlabel('Time Step')\n",
    "plt.ylabel('TE')\n",
    "plt.title('Evolution of Total Energy')\n",
    "\n",
    "plt.show()"
   ]
  },
  {
   "cell_type": "markdown",
   "metadata": {},
   "source": [
    "Next animate the cells"
   ]
  },
  {
   "cell_type": "code",
   "execution_count": null,
   "metadata": {},
   "outputs": [],
   "source": [
    "import optimaltransportsolver as ots\n",
    "from pysdot import PowerDiagram\n",
    "import pyvista as pv\n",
    "import imageio.v2 as iio\n",
    "\n",
    "# Animate the cells\n",
    "\n",
    "coloring = 'Temp' # Chose how to colour the cells can be temperature ('Temp'), meridonal velocity ('Vel'), \n",
    "\n",
    "#Construct domain\n",
    "domain = ots.make_domain(box, False, False)\n",
    "\n",
    "# Set up the animation parameters\n",
    "n_frames = len(W)  # Number of frames\n",
    "\n",
    "# Create an empty list to store frames\n",
    "frames = []\n",
    "\n",
    "# Generate frames for the animation\n",
    "for i in range(n_frames):\n",
    "\n",
    "    #Draw the tessellation\n",
    "    pd = PowerDiagram(positions = Z[i], weights = W[i], domain = domain)\n",
    "\n",
    "    # Save the results in a .vtk file\n",
    "    filename = \"./data/cells.vtk\"\n",
    "    pd.display_vtk(filename)\n",
    "\n",
    "    # Store the volumes in an array\n",
    "    if coloring == 'MVel':\n",
    "        minval = np.min(MVel)\n",
    "        maxval = np.max(MVel)\n",
    "        colours = np.array(MVel[i])\n",
    "    elif coloring == 'Temp':\n",
    "        minval = np.min(T)\n",
    "        maxval = np.max(T)\n",
    "        colours = np.array(T[i])\n",
    "    else:\n",
    "        raise ValueError('Please specify how you want to colour the cells')\n",
    "\n",
    "    # Read the data\n",
    "    grid=pv.read(filename)\n",
    "\n",
    "    # Create cell data that gives the cell volumes, this allows us to colour by cell the velocity or the temperature\n",
    "    cell_colours = colours[grid.cell_data['num'].astype(int)]\n",
    "    grid.cell_data['Temperature'] = cell_colours\n",
    "\n",
    "    # plot the data with an automatically created plotter, for a static picture use backend='static'\n",
    "    plotter = pv.Plotter(window_size=[800,800], notebook = False, off_screen = True)\n",
    "    plotter.add_mesh(grid, clim = [minval, maxval], cmap = 'jet')\n",
    "    plotter.set_scale(xscale = 1, yscale = 100)\n",
    "\n",
    "    # Set the camera for 2D view\n",
    "    plotter.camera_position = 'xy'\n",
    "\n",
    "    # Render the frame\n",
    "    plotter.show()\n",
    "\n",
    "    # Get the frame as an image array using screenshot\n",
    "    frame = plotter.screenshot(transparent_background = True)\n",
    "\n",
    "    # Add the frame to the list of frames\n",
    "    frames.append(frame)\n",
    "\n",
    "# Save the frames as an animation file\n",
    "output_file = './animations/SG_Cell_Animation.gif'\n",
    "iio.mimwrite(output_file, frames, format = 'gif', fps = 30)"
   ]
  },
  {
   "cell_type": "markdown",
   "metadata": {},
   "source": [
    "# Combine and syncronize the animations"
   ]
  },
  {
   "cell_type": "code",
   "execution_count": null,
   "metadata": {},
   "outputs": [],
   "source": [
    "import matplotlib.pyplot as plt\n",
    "import matplotlib.animation as animation\n",
    "from PIL import Image\n",
    "\n",
    "# Function to read GIF frames\n",
    "def read_gif(gif_path):\n",
    "    img = Image.open(gif_path)\n",
    "    frames = []\n",
    "    try:\n",
    "        while True:\n",
    "            frames.append(img.copy())\n",
    "            img.seek(len(frames))\n",
    "    except EOFError:\n",
    "        pass\n",
    "    return frames\n",
    "\n",
    "# Paths to your GIFs\n",
    "gif1_path = './animations/SG_Cell_Animation.gif'\n",
    "gif2_path = './animations/SG_Centroids_2D.gif'\n",
    "gif3_path = './animations/SG_Seeds_2D.gif'\n",
    "\n",
    "# Read GIF frames\n",
    "frames1 = read_gif(gif1_path)\n",
    "frames2 = read_gif(gif2_path)\n",
    "frames3 = read_gif(gif3_path)\n",
    "\n",
    "# Create a figure and axes\n",
    "fig, axes = plt.subplots(1, 3, figsize=(15, 5))\n",
    "\n",
    "# Display each GIF on a separate subplot\n",
    "ims = []\n",
    "\n",
    "for ax, frames in zip(axes, [frames1, frames2, frames3]):\n",
    "    im = ax.imshow(frames[0], animated=True)\n",
    "    ims.append([im])\n",
    "\n",
    "# Update function for the animation\n",
    "def update(frame):\n",
    "    for im, frames in zip(ims, [frames1, frames2, frames3]):\n",
    "        im[0].set_array(frames[frame])\n",
    "\n",
    "# Create the animation\n",
    "ani = animation.FuncAnimation(fig, update, frames=len(frames1), repeat=False, blit=False)\n",
    "\n",
    "# Save the animation (uncomment the line below to save)\n",
    "ani.save('./animations/Combined_Animation.gif', writer='pillow', fps=30)"
   ]
  }
 ],
 "metadata": {
  "kernelspec": {
   "display_name": "Python 3.10.6 64-bit",
   "language": "python",
   "name": "python3"
  },
  "language_info": {
   "codemirror_mode": {
    "name": "ipython",
    "version": 3
   },
   "file_extension": ".py",
   "mimetype": "text/x-python",
   "name": "python",
   "nbconvert_exporter": "python",
   "pygments_lexer": "ipython3",
   "version": "3.10.12"
  },
  "orig_nbformat": 4,
  "vscode": {
   "interpreter": {
    "hash": "916dbcbb3f70747c44a77c7bcd40155683ae19c65e1c03b4aa3499c5328201f1"
   }
  }
 },
 "nbformat": 4,
 "nbformat_minor": 2
}
